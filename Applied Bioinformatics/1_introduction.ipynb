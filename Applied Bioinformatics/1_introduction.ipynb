{
  "cells": [
    {
      "cell_type": "markdown",
      "metadata": {
        "id": "hRquYdSGLueD"
      },
      "source": [
        "# Tutorial 1: Introduction"
      ]
    },
    {
      "cell_type": "markdown",
      "metadata": {
        "id": "HUh2ERy7L1op"
      },
      "source": [
        "## Question 1: Data Types\n",
        "\n",
        "Now it's about basic datatypes in python. We will work with the following data\n",
        "types:\n",
        "\n",
        "* Numeric: integer (int), floating point number (float)\n",
        "\n",
        "* Strings: str; e.g. example_string = 'test'\n",
        "\n",
        "* Sequence types: list, tuple, range; e.g. example_list = [1,'1',1.0]\n",
        "\n",
        "* Mapping data types: dictionary (dict); e.g. example_dict = {1:'test', someList:[1,2,3]}\n",
        "\n",
        "* Boolean data type: bool; e.g. example_bool = True\n",
        "\n",
        "* Set data type: set\n",
        "\n",
        "\n",
        "---\n",
        "\n",
        "Tasks:\n",
        "\n",
        "0. Add a comment (#) to every line of code explaining what the code is doing\n",
        "\n",
        "1. Go to [UniProt](https://www.uniprot.org/) and retrieve the sequence\n",
        "of RNASE1 for Horse and the Common Mink Whale. Copy both and store them\n",
        "as strings in two variabels (e.g. Horse_RNASE1 and Whale_RNASE1)\n",
        "\n",
        "2. Create a variable \"first_alanine\" that has an integer value assigned\n",
        "referring to the position of the first alanine (A) in the Horse RNASE1. Use it\n",
        "to print out the first alanine from the sequence with print(string[first_alanine])\n",
        "\n",
        "3. Now hand the same value as a float to the \"first_alanine\" variable. Try to\n",
        "print it again and check the difference.\n",
        "\n",
        "4. There is a binding site between position 41 and 45 (KPVNT) in the Whale\n",
        "RNASE1 sequence. Print this sniplet from the Horse_RNASE1 variable using the\n",
        "[...] notation. Hint: You will need to use a \":\" .\n",
        "\n",
        "5. Not everyone can understand the amino acid codes. Create a dictionary\n",
        "that can be used as a lookup for Lysine, Proline, Valine, Asparagine, and Threonine. It should take the one letter code as a key to return the full name.\n",
        "Now print out the AA name of the active site amino acids from task 4 using the\n",
        "dictionary.\n",
        "\n",
        "6. You want to know how many different amino acids are in the Horse RNASE1.\n",
        "Try to count the unique elements by converting the \"Horse_RNASE1\" into a set in\n",
        "combination with the \"[len](https://www.w3schools.com/python/ref_func_len.asp)()\" function.\n",
        "\n",
        "\n",
        "\n",
        "Hint: check https://www.digitalocean.com/community/tutorials/python-data-types\n",
        "for help. The web is full of python guides. If you get stuck just google your\n",
        "problem. If that still does not help ask the machine overlord ChatGTP. It is\n",
        "good practice to find solutions in forums such as stack overflow. ChatGTP will\n",
        "not solve all problems (yet)."
      ]
    },
    {
      "cell_type": "code",
      "execution_count": 2,
      "metadata": {
        "id": "82ip4qcx1DoS"
      },
      "outputs": [],
      "source": [
        "# 1. Create two variables storing the sequences of RNASE1 horse + whale\n",
        "\n",
        "Horse_RNASE1 = 'KESPAMKFERQHMDSGSTSSSNPTYCNQMMKRRNMTQGWCKPVNTFVHEPLADVQAICLQKNITCKNGQSNCYQSSSSMHITDCRLTSGSKYPNCAYQTSQKERHIIVACEGNPYVPVHFDASVEVST'\n",
        "\n",
        "Whale_RNASE1 = 'RESPAMKFQRQHMDSGNSPGNNPNYCNQMMMRRKMTQGRCKPVNTFVHESLEDVKAVCSQKNVLCKNGRTNCYESNSTMHITDCRQTGSSKYPNCAYKTSQKEKHIIVACEGNPYVPVHFDNSV'\n"
      ]
    },
    {
      "cell_type": "code",
      "execution_count": 4,
      "metadata": {
        "id": "83F86CVn1Dw9"
      },
      "outputs": [
        {
          "name": "stdout",
          "output_type": "stream",
          "text": [
            "First alanine on position 4 -> A\n"
          ]
        }
      ],
      "source": [
        "# 2. Create an index variable (int)\n",
        "\n",
        "first_alanine = Horse_RNASE1.find('A')\n",
        "\n",
        "# use it to access string data\n",
        "print(f\"First alanine on position {first_alanine} -> {Horse_RNASE1[first_alanine]}\")"
      ]
    },
    {
      "cell_type": "code",
      "execution_count": 7,
      "metadata": {
        "id": "cuUL3SHE1D2t"
      },
      "outputs": [
        {
          "name": "stdout",
          "output_type": "stream",
          "text": [
            "First alanine on position as float 4.0 - can not access the str idx\n"
          ]
        }
      ],
      "source": [
        "# 3. Create an index variable (float)\n",
        "first_alanine = float(Horse_RNASE1.find('A'))\n",
        "\n",
        "# use it to access string data\n",
        "print(f\"First alanine on position as float {first_alanine} - can not access the str idx\")"
      ]
    },
    {
      "cell_type": "code",
      "execution_count": 9,
      "metadata": {
        "id": "oJd3nJ0r1D8l"
      },
      "outputs": [
        {
          "name": "stdout",
          "output_type": "stream",
          "text": [
            "KPVNT\n"
          ]
        }
      ],
      "source": [
        "# 4. Print out active site of the Whale_RNASE1\n",
        "print(Whale_RNASE1[40:45])"
      ]
    },
    {
      "cell_type": "code",
      "execution_count": 12,
      "metadata": {
        "id": "fK0QaMvJ1ECJ"
      },
      "outputs": [
        {
          "name": "stdout",
          "output_type": "stream",
          "text": [
            "['Lysine', 'Proline', 'Valine', 'Asparagine', 'Threonine']\n"
          ]
        }
      ],
      "source": [
        "# 5. Finish the lookup for the aa code\n",
        "\n",
        "aa_lookup = {'K':'Lysine', 'P':'Proline', 'V':'Valine', 'N':'Asparagine', 'T':'Threonine'}\n",
        "\n",
        "# print the translation\n",
        "amino_substring = Whale_RNASE1[40:45]\n",
        "print([aa_lookup[protein] for protein in amino_substring])\n"
      ]
    },
    {
      "cell_type": "code",
      "execution_count": 15,
      "metadata": {
        "id": "-zVdSTY01EHP"
      },
      "outputs": [
        {
          "data": {
            "text/plain": [
              "20"
            ]
          },
          "execution_count": 15,
          "metadata": {},
          "output_type": "execute_result"
        }
      ],
      "source": [
        "# 6. Counting unique elements in thr Horse RNASE1\n",
        "len(set(Horse_RNASE1))"
      ]
    },
    {
      "cell_type": "markdown",
      "metadata": {
        "id": "7v3ZmFWpNQWw"
      },
      "source": [
        "# Question 2: Loops\n",
        "\n",
        "Loops are a basic building block in every programming language and are used\n",
        "to automate repetitive tasks.\n",
        "\n",
        "The `range()` function is used to generate a sequence of numbers. The syntax of the `range()` function is as follows:   \n",
        "\n",
        "Syntax: `range([start,] stop [,step])`\n",
        "* Start (optional): the starting point of the sequence. It defaults to 0.\n",
        "* Stop (required): the endpoint of the sequence. This item will not be included in the sequence.\n",
        "* Step (optional): the step size of the sequence. It defaults to 1.\n",
        "\n",
        "For example, `range(1,6)` will produce a sequence of numbers from 1 to 5 (be careful, it is not the values of 1 to 6). If one changes it to `range(6)`, the value 0 will also be included because the default start is 0.    \n",
        "\n",
        "Tasks:\n",
        "\n",
        "1. Redo question 5 of the last part. Now use a for loop with the range function\n",
        "such that you dont have to copy the same line over and over again.\n",
        "\n",
        "2. Print only specific characters from a string. Write a loop that iterates\n",
        "the whole Horse RNASE1 sequence but prints only \"K\"s. Hint: Check out what an\n",
        "if statement is and how the == operator can be used for this task.\n",
        "\n",
        "3. Adapt the loop from two such that you can count how often a character (and here specifically \" is\n",
        "occuring. Hint: You have to create a new integer variable. You can use the += operator to increase its value within the loop.\n",
        "\n",
        "4. Reverse String: Given a string, create a for loop that prints the characters of the string in reverse order. Use the Whale RNASE1 sequence. Hint: Check what happens if you add two strings.\n",
        "e.g. \"a\" + \"b\"; or \"\" + \"abc\"\n",
        "\n",
        "5. (Harder one) Use your knowledge about for loops, if statements, and counting to iterate\n",
        "over both sequences at once counting perfect matches. Hint: Check what the \"zip\" function is doing and how it can be used to create such loop.\n",
        "If this is still too boring try to print both Sequences as in the lecture with *\n",
        "denoting matches. e.g.:\n",
        "\n",
        "\n",
        "\n",
        "```\n",
        "RESP\n",
        " ***\n",
        "KESP\n",
        "```\n",
        "\n",
        "\n",
        "\n",
        "Hint: Check https://www.digitalocean.com/community/tutorials/python-for-loop-example for help. Or Google... or ChatGTP."
      ]
    },
    {
      "cell_type": "code",
      "execution_count": 33,
      "metadata": {
        "id": "NlkSE74k1QN0"
      },
      "outputs": [
        {
          "name": "stdout",
          "output_type": "stream",
          "text": [
            "Lysine Proline Valine Asparagine Threonine "
          ]
        }
      ],
      "source": [
        "# 1. Iterate over the positions 40 - 44 while printing from the dictionary in\n",
        "# each iteration\n",
        "\n",
        "for i in range(40, 45):\n",
        "    print(aa_lookup[Whale_RNASE1[i]], end=\" \")"
      ]
    },
    {
      "cell_type": "code",
      "execution_count": 21,
      "metadata": {
        "id": "8casU0k11QTH"
      },
      "outputs": [
        {
          "name": "stdout",
          "output_type": "stream",
          "text": [
            "K K K K K K K K K K "
          ]
        }
      ],
      "source": [
        "# 2. Print only K while iterating the whole string\n",
        "\n",
        "for char in Whale_RNASE1:\n",
        "    if char == \"K\":\n",
        "        print(char, end=' ')"
      ]
    },
    {
      "cell_type": "code",
      "execution_count": 23,
      "metadata": {
        "id": "9yNJxADZ1QXM"
      },
      "outputs": [
        {
          "name": "stdout",
          "output_type": "stream",
          "text": [
            "10\n"
          ]
        }
      ],
      "source": [
        "# 3. Counting K in the Horse RNASE 1\n",
        "count = 0\n",
        "for char in Whale_RNASE1:\n",
        "    if char == \"K\":\n",
        "        count += 1\n",
        "print(count)"
      ]
    },
    {
      "cell_type": "code",
      "execution_count": 25,
      "metadata": {
        "id": "FVoy3JCS1QbW"
      },
      "outputs": [
        {
          "name": "stdout",
          "output_type": "stream",
          "text": [
            "VSNDFHVPVYPNGECAVIIHKEKQSTKYACNPYKSSGTQRCDTIHMTSNSEYCNTRGNKCLVNKQSCVAKVDELSEHVFTNVPKCRGQTMKRRMMMQNCYNPNNGPSNGSDMHQRQFKMAPSE\n"
          ]
        }
      ],
      "source": [
        "# 4. Reverse string\n",
        "reversed_string = \"\"  # Initialize empty string for reversed characters\n",
        "for char in range(len(Whale_RNASE1)-1, 0, -1):\n",
        "    reversed_string += Whale_RNASE1[char]\n",
        "print(reversed_string)"
      ]
    },
    {
      "cell_type": "code",
      "execution_count": 34,
      "metadata": {
        "id": "2J_3JDVW1Qev"
      },
      "outputs": [
        {
          "name": "stdout",
          "output_type": "stream",
          "text": [
            "95\n"
          ]
        }
      ],
      "source": [
        "# 5. Perfect matches\n",
        "matches = 0\n",
        "for a, b in zip(Whale_RNASE1, Horse_RNASE1):\n",
        "    matches += a == b\n",
        "print(matches)"
      ]
    },
    {
      "cell_type": "markdown",
      "metadata": {
        "id": "RlIhsSXWdcAg"
      },
      "source": [
        "# Question 3: Functions\n",
        "\n",
        "\n",
        "Some basics about functions in python. Functions are defined by the \"def\"\n",
        "statement followed by closed brackets \"()\" that can contain input variables.\n",
        "Afterwards \":\" starts the function body which is a block statement and will\n",
        "be executed when the function is called. If the function should return something\n",
        "the body is closed by the optional return statement followed by whatever\n",
        "the output should be. Functions are typically used if complex operation\n",
        "have to be applied in multiple parts of the code (there are more reasons to use functions but this is relevant only for advanced programming). Further they are the foundation of object orientated programming.  \n",
        "\n",
        "Example 1 \"No input no return\"\n",
        "\n",
        "\n",
        "```\n",
        "def show_my_string():\n",
        "  my_string = \"abcd\"\n",
        "  print(my_string)\n",
        "\n",
        "show_my_string()\n",
        "\n",
        ">>> abcd\n",
        "\n",
        "# This is the same as:\n",
        "\n",
        "def show_my_string():\n",
        "  print(\"abcd\")\n",
        "\n",
        "```\n",
        "\n",
        "Example 2 \"Input and return\"\n",
        "\n",
        "\n",
        "\n",
        "```\n",
        "def divide(a,b):\n",
        "  c = a / b\n",
        "\n",
        "  return c\n",
        "\n",
        "result = divide(10, 5)\n",
        "\n",
        "print(result)\n",
        "\n",
        ">>> 2\n",
        "\n",
        "# This is the same as:\n",
        "\n",
        "def divide(a,b):\n",
        "  return a / b\n",
        "\n",
        "```\n",
        "\n",
        "---\n",
        "\n",
        "1. Create a function that takes a string variable as input and prints its value. Use it to print the Horse_RNASE1 or Whale_RNASE1\n",
        "\n",
        "2. Create a function that counts perfect matches of two strings.\n",
        "\n",
        "3. Create a function that takes two strings as input and combines both to a single string. Create two variables one containing the first half of the\n",
        "Whale RNASE1 and the other containing the second half of the Horse RNASE1. Use your new function to combine both halfs into a third variable.\n",
        "\n",
        "4. How many perfect matches does the newly created RNASE1 have with the Whale RNASE1 and with the Horse RNASE1. Use the function created in task 2.\n",
        "\n",
        "5. Now that you have calculated the perfect matches for 3 combinations (Whale vs. Horse, Whale vs. HalfHalf, Horse vs. HalfHalf) you want to compute the average number of perfect matches. Create a function that takes a list of integers or floats and returns the arithmetic mean.\n",
        "\n",
        "Hint: Check https://www.digitalocean.com/community/tutorials/how-to-define-functions-in-python-3"
      ]
    },
    {
      "cell_type": "code",
      "execution_count": 35,
      "metadata": {
        "id": "TdKEPRLG1Xdy"
      },
      "outputs": [
        {
          "name": "stdout",
          "output_type": "stream",
          "text": [
            "KESPAMKFERQHMDSGSTSSSNPTYCNQMMKRRNMTQGWCKPVNTFVHEPLADVQAICLQKNITCKNGQSNCYQSSSSMHITDCRLTSGSKYPNCAYQTSQKERHIIVACEGNPYVPVHFDASVEVST\n"
          ]
        }
      ],
      "source": [
        "# 1. Print a string\n",
        "def print_string(some_string):\n",
        "    print(some_string)\n",
        "print_string(Horse_RNASE1)"
      ]
    },
    {
      "cell_type": "code",
      "execution_count": 36,
      "metadata": {
        "id": "iBex4QSN1XhS"
      },
      "outputs": [],
      "source": [
        "# 2. Matches\n",
        "def perfect_matches(string_a, string_b):\n",
        "  match_count = 0\n",
        "  for first_val, second_val in zip(string_a, string_b):\n",
        "    match_count += first_val == second_val\n",
        "  return match_count"
      ]
    },
    {
      "cell_type": "code",
      "execution_count": 38,
      "metadata": {
        "id": "J83mC8O_1Xkq"
      },
      "outputs": [],
      "source": [
        "# 3. Combine strings\n",
        "def combine_strings(string_a, string_b):\n",
        "  return string_a + string_b"
      ]
    },
    {
      "cell_type": "code",
      "execution_count": 39,
      "metadata": {
        "id": "c63TiE_91XoO"
      },
      "outputs": [
        {
          "name": "stdout",
          "output_type": "stream",
          "text": [
            "65\n",
            "51\n"
          ]
        }
      ],
      "source": [
        "# 4. Find perfect matches\n",
        "new_rnase = Whale_RNASE1[:len(Whale_RNASE1)//2] + Horse_RNASE1[len(Horse_RNASE1)//2:]\n",
        "\n",
        "print(perfect_matches(new_rnase, Whale_RNASE1))\n",
        "print(perfect_matches(new_rnase, Horse_RNASE1))"
      ]
    },
    {
      "cell_type": "code",
      "execution_count": 44,
      "metadata": {
        "id": "wEW8sWhv1Xrv"
      },
      "outputs": [
        {
          "name": "stdout",
          "output_type": "stream",
          "text": [
            "70.33333333333333\n"
          ]
        }
      ],
      "source": [
        "# 5. Compute the mean of a list\n",
        "def comp_mean(numbers):\n",
        "  sum = 0\n",
        "  for n in numbers:\n",
        "    sum += n\n",
        "  return sum / len(numbers)\n",
        "\n",
        "print(comp_mean([perfect_matches(new_rnase, Whale_RNASE1), perfect_matches(new_rnase, Horse_RNASE1), perfect_matches(Whale_RNASE1, Horse_RNASE1)]))"
      ]
    }
  ],
  "metadata": {
    "colab": {
      "provenance": []
    },
    "kernelspec": {
      "display_name": "Python 3",
      "name": "python3"
    },
    "language_info": {
      "codemirror_mode": {
        "name": "ipython",
        "version": 3
      },
      "file_extension": ".py",
      "mimetype": "text/x-python",
      "name": "python",
      "nbconvert_exporter": "python",
      "pygments_lexer": "ipython3",
      "version": "3.10.12"
    }
  },
  "nbformat": 4,
  "nbformat_minor": 0
}
