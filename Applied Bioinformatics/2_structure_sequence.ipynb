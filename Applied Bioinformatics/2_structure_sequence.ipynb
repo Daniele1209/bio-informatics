{
  "cells": [
    {
      "cell_type": "markdown",
      "metadata": {
        "id": "rckn9AYb3iel"
      },
      "source": [
        "# Exercise 2: Introduction to Structure\n",
        "Welcome to the second exercise of applied bioinformatics. In the lecture you learned that sequence comparison is not always suffiecent when comparing protein properties. Today it's all about including structural information in your analysis while learning a few new things about python."
      ]
    },
    {
      "cell_type": "markdown",
      "metadata": {
        "id": "fo1etGgw3lAA"
      },
      "source": [
        "## Part 1: Sequence vs. Structure\n",
        "\n",
        "Go to the [PDB](https://www.rcsb.org/) and search the structures for Hemoglobin in Lamprey (2LHB) and Leghemoglobin in yellow lupin (1LH1). Retrieve the sequences and use the code below to compute the perfect matches. Later on we want to compare this value realative to other scores. Therefore we need to adjust it for the sequence lenght since it is expected, that the number of perfect matches will be increased by chance if the sequences are very long. Add a line of code that is calculating the number of perfect matches by the length of the shorter sequence (matches / min(len(seq_a), len(seq_b)). Note the result.\n",
        "Now compare the sequence matches of Leghemoglobin in yellow lupin (1LH1) and Leghemoglobin from Glycine max (1FSL) as well and note the adjusted value. Finally do the same again for Hemoglobin in Lamprey (2LHB) and the hemoglobin-like-protein HbO (1NGK)."
      ]
    },
    {
      "cell_type": "code",
      "execution_count": 3,
      "metadata": {
        "id": "Bt_t3yLC3XOl"
      },
      "outputs": [
        {
          "name": "stdout",
          "output_type": "stream",
          "text": [
            "8 -> 0.053691275167785234\n",
            "34 -> 0.23776223776223776\n",
            "7 -> 0.0546875\n"
          ]
        }
      ],
      "source": [
        "# sequences\n",
        "hem_2LHB = 'PIVDTGSVAPLSAAEKTKIRSAWAPVYSTYETSGVDILVKFFTSTPAAQEFFPKFKGLTTADELKKSADVRWHAERIINAVDDAVASMDDTEKMSMKLRNLSGKHAKSFQVDPEYFKVLAAVIADTVAAGDAGFEKLMSMICILLRSAY'\n",
        "leghem_1LH1 = 'GALTESQAALVKSSWEEFNANIPKHTHRFFILVLEIAPAAKDLFSFLKGTSEVPQNNPELQAHAGKVFKLVYEAAIQLEVTGVVVTDATLKNLGSVHVSKGVADAHFPVVKEAILKTIKEVVGAKWSEELNSAWTIAYDELAIVIKKEMDDAA'\n",
        "leghem_1FSL = 'VAFTEKQDALVSSSFEAFKANIPQYSVVFYTSILEKAPAAKDLFSFLANGVDPTNPKLTGHAEKLFALVRDSAGQLKASGTVVADAALGSVHAQKAVTDPQFVVVKEALLKTIKAAVGDKWSDELSRAWEVAYDELAAAIKKA'\n",
        "hem_1NGK = 'MPKSFYDAVGGAKTFDAIVSRFYAQVAEDEVLRRVYPEDDLAGAEERLRMFLEQYWGGPRTYSEQRGHPRLRMRHAPFRISLIERDAWLRCMHTAVASIDSETLDDEHRRELLDYLEMAAHSLVNSPF'\n",
        "\n",
        "def perfect_matches(str_a, str_b):\n",
        "  match_count = 0\n",
        "  for elem_a, elem_b in zip(str_a, str_b):\n",
        "    match_count += elem_a == elem_b\n",
        "  return match_count\n",
        "\n",
        "def normalized_perfect_matches(str_a, str_b):\n",
        "  return perfect_matches(str_a=str_a, str_b=str_b) / min(len(str_a), len(str_b))\n",
        "\n",
        "# compute number perfect matches\n",
        "pmatches = perfect_matches(hem_2LHB, leghem_1LH1)\n",
        "normal_pmatches = pmatches / min(len(hem_2LHB), len(leghem_1LH1))\n",
        "print(f\"{pmatches} -> {normal_pmatches}\")\n",
        "\n",
        "# adjust number of perfect matches by minimum sequence length\n",
        "\n",
        "# 1LH1 - FSL\n",
        "pmatches = perfect_matches(leghem_1LH1, leghem_1FSL)\n",
        "normal_pmatches = pmatches / min(len(leghem_1LH1), len(leghem_1FSL))\n",
        "print(f\"{pmatches} -> {normal_pmatches}\")\n",
        "\n",
        "# 2LHB - 1NGK\n",
        "pmatches = perfect_matches(hem_2LHB, hem_1NGK)\n",
        "normal_pmatches = pmatches / min(len(hem_2LHB), len(hem_1NGK))\n",
        "print(f\"{pmatches} -> {normal_pmatches}\")\n",
        "\n",
        "# example\n",
        "# eg = pmatches / min(len(), len())\n"
      ]
    },
    {
      "cell_type": "markdown",
      "metadata": {
        "id": "QlICpXR-4kS_"
      },
      "source": [
        "Now that we have an estimate on how well the sequences match lets check the structure similarity using TM align. Go to the PDB [alignment interface](https://www.rcsb.org/alignment) and calculate the TM score for the three combinations (2LHB vs. 1LH1; 1LH1 vs. 1FSL; 2LHB vs. 1NGK). Store the adjusted perfect matches and TM scores in the Dictionary below."
      ]
    },
    {
      "cell_type": "code",
      "execution_count": 4,
      "metadata": {
        "id": "DdZ_E2-P4FJI"
      },
      "outputs": [],
      "source": [
        "scores = {0.0536: 0.74, 0.2377: 0.83, 0.0546: 0.52}"
      ]
    },
    {
      "cell_type": "markdown",
      "metadata": {
        "id": "tG1BpoMP4pD5"
      },
      "source": [
        "Finally you have to visualize your results. In the lecture you already got to know a plot in which sequence similarity and structural similarity are compared with each othere. Recreate that with the three datapoints out of the example. You will have to use [matplotplib](https://matplotlib.org/) and its [scatter](https://matplotlib.org/stable/plot_types/basic/scatter_plot.html#sphx-glr-plot-types-basic-scatter-plot-py) function. Import matplotlib and create a scatter plot with the sequence similarity values on the x-axis and the TM scores on the y-axis. Feel free to beutify the plot with Title, axis labels, and colors as you like. What can you deduce from this simple example? Is comparing only protein sequences sufficient in all cases?\n",
        "\n",
        "Showing screenshots of figures in presentations is usually not a good idea due to the low resolution. Use the [savefig](https://matplotlib.org/stable/api/_as_gen/matplotlib.pyplot.savefig.html) method to save the plot as a high resolution (set dpi to 300) .png file."
      ]
    },
    {
      "cell_type": "code",
      "execution_count": 18,
      "metadata": {
        "id": "7Ajq7ygV4pz2"
      },
      "outputs": [
        {
          "data": {
            "image/png": "[encoded data removed]",
            "text/plain": [
              "<Figure size 640x480 with 1 Axes>"
            ]
          },
          "metadata": {},
          "output_type": "display_data"
        },
        {
          "data": {
            "text/plain": [
              "<Figure size 640x480 with 0 Axes>"
            ]
          },
          "metadata": {},
          "output_type": "display_data"
        }
      ],
      "source": [
        "# Create a scatter plot with matplotlib\n",
        "import matplotlib.pyplot as plt\n",
        "import numpy as np\n",
        "\n",
        "colors = np.random.uniform(15, 80, len(scores.keys()))\n",
        "\n",
        "fig = plt.figure()\n",
        "plt.scatter(scores.keys(), scores.values(), c=colors)\n",
        "plt.show()\n",
        "\n",
        "# saving the figure\n",
        "plt.savefig(fname=\"score-plot.png\")"
      ]
    },
    {
      "cell_type": "markdown",
      "metadata": {
        "id": "zR6bxDQz4127"
      },
      "source": [
        "## Part 2: Implement LCS with help of the Internet\n",
        "\n",
        "Counting perfect matches is underestimating the sequence similarity quite a bit and is not a great measure. As you learned in the first lecture a better measure would be the longest common subsequence or LCS. Luckily you don't have to be an expert in algorithms or Python programming anymore to implement a \"standard\" algorithm like that. Try to find a solution with the help of google or ChatGTP that implements the LCS algorithm and compute the lenght of the LCS for the three combinations from Part 1. You can either copy (and maybe adapt) a function you have found or install a python package that does the job. Use the new values in order to recreate the scatter plot."
      ]
    },
    {
      "cell_type": "code",
      "execution_count": 19,
      "metadata": {
        "id": "dUZx1lpE43ek"
      },
      "outputs": [],
      "source": [
        "# Implementation of lcs\n",
        "def longest_common_subsequence(str1, str2):\n",
        "  # Declaring the array for storing the dp values \n",
        "  L = [[None]*(len(str2)+1) for i in range(len(str1)+1)] \n",
        "\n",
        "  # Following steps build L[m+1][n+1] in bottom up fashion \n",
        "  # Note: L[i][j] contains length of LCS of X[0..i-1] \n",
        "  # and Y[0..j-1] \n",
        "  for i in range(len(str1)+1): \n",
        "      for j in range(len(str2)+1): \n",
        "          if i == 0 or j == 0: \n",
        "              L[i][j] = 0\n",
        "          elif str1[i-1] == str2[j-1]: \n",
        "              L[i][j] = L[i-1][j-1]+1\n",
        "          else: \n",
        "              L[i][j] = max(L[i-1][j], L[i][j-1]) \n",
        "\n",
        "  # L[m][n] contains the length of LCS of X[0..n-1] & Y[0..m-1] \n",
        "  return L[len(str1)][len(str2)]"
      ]
    },
    {
      "cell_type": "code",
      "execution_count": 35,
      "metadata": {},
      "outputs": [],
      "source": [
        "pairs = {(hem_2LHB, leghem_1LH1):0.74, (leghem_1LH1, leghem_1FSL):0.83, (hem_2LHB, hem_1NGK):0.52}\n",
        "\n",
        "out_data = {}\n",
        "\n",
        "for pair, pair_similarity in pairs.items():\n",
        "    out_data[pair_similarity] = longest_common_subsequence(pair[0], pair[1])"
      ]
    },
    {
      "cell_type": "code",
      "execution_count": 37,
      "metadata": {
        "id": "MzudxIsW5H2u"
      },
      "outputs": [
        {
          "data": {
            "image/png": "[encoded data removed]",
            "text/plain": [
              "<Figure size 640x480 with 1 Axes>"
            ]
          },
          "metadata": {},
          "output_type": "display_data"
        }
      ],
      "source": [
        "# Create a scatter plot with matplotlib using new values from LCS\n",
        "\n",
        "colors = np.random.uniform(15, 80, len(scores.keys()))\n",
        "\n",
        "fig2 = plt.figure()\n",
        "plt.scatter(out_data.values(), out_data.keys(), c=colors)\n",
        "plt.show()"
      ]
    }
  ],
  "metadata": {
    "colab": {
      "provenance": []
    },
    "kernelspec": {
      "display_name": "Python 3",
      "name": "python3"
    },
    "language_info": {
      "codemirror_mode": {
        "name": "ipython",
        "version": 3
      },
      "file_extension": ".py",
      "mimetype": "text/x-python",
      "name": "python",
      "nbconvert_exporter": "python",
      "pygments_lexer": "ipython3",
      "version": "3.10.12"
    }
  },
  "nbformat": 4,
  "nbformat_minor": 0
}
